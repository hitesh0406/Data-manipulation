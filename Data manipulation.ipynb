{
 "cells": [
  {
   "cell_type": "code",
   "execution_count": null,
   "id": "ee6802e2-27b8-4799-b0cc-3ca5fbd5bb8d",
   "metadata": {},
   "outputs": [],
   "source": [
    "# Data manipulation\n",
    "# Use pandas' pivot and pivot_table functions to perform advanced data reshaping operations."
   ]
  },
  {
   "cell_type": "code",
   "execution_count": 2,
   "id": "2d80a9c5-2383-4c58-8a30-d1c376195ac7",
   "metadata": {},
   "outputs": [
    {
     "name": "stdout",
     "output_type": "stream",
     "text": [
      "         Date         City  Temperature\n",
      "0  2024-10-01     New York           32\n",
      "1  2024-10-02  Los Angeles           75\n",
      "2  2024-10-03     New York           31\n",
      "3  2024-10-04  Los Angeles           77\n",
      "City        Los Angeles  New York\n",
      "Date                             \n",
      "2024-10-01          NaN      32.0\n",
      "2024-10-02         75.0       NaN\n",
      "2024-10-03          NaN      31.0\n",
      "2024-10-04         77.0       NaN\n"
     ]
    }
   ],
   "source": [
    "import pandas as pd\n",
    "\n",
    "data = {\n",
    "    'Date': ['2024-10-01', '2024-10-02', '2024-10-03', '2024-10-04'],\n",
    "    'City': ['New York', 'Los Angeles', 'New York', 'Los Angeles'],\n",
    "    'Temperature': [32, 75, 31, 77]\n",
    "}\n",
    "\n",
    "df = pd.DataFrame(data)\n",
    "print(df)\n",
    "\n"
   ]
  },
  {
   "cell_type": "code",
   "execution_count": 3,
   "id": "aa5b3f84-602a-4e2d-b5c9-0ceb1fa660e9",
   "metadata": {},
   "outputs": [
    {
     "name": "stdout",
     "output_type": "stream",
     "text": [
      "City        Los Angeles  New York\n",
      "Date                             \n",
      "2024-10-01          NaN      32.0\n",
      "2024-10-02         75.0       NaN\n",
      "2024-10-03          NaN      31.0\n",
      "2024-10-04         77.0       NaN\n"
     ]
    }
   ],
   "source": [
    "## pivot()\n",
    "\n",
    "df_pivot = df.pivot(index='Date', columns='City', values='Temperature')\n",
    "print(df_pivot)"
   ]
  },
  {
   "cell_type": "code",
   "execution_count": 4,
   "id": "5bf0ecae-51c9-488a-a35b-d049e3f2f3ef",
   "metadata": {},
   "outputs": [
    {
     "name": "stdout",
     "output_type": "stream",
     "text": [
      "         Date         City  Temperature  Humidity\n",
      "0  2024-01-01     New York           32        80\n",
      "1  2024-01-01  Los Angeles           75        40\n",
      "2  2024-01-02     New York           31        78\n",
      "3  2024-01-02  Los Angeles           77        35\n",
      "4  2024-01-02     New York           30        82\n"
     ]
    }
   ],
   "source": [
    "data = {\n",
    "    'Date': ['2024-01-01', '2024-01-01', '2024-01-02', '2024-01-02', '2024-01-02'],\n",
    "    'City': ['New York', 'Los Angeles', 'New York', 'Los Angeles', 'New York'],\n",
    "    'Temperature': [32, 75, 31, 77, 30],\n",
    "    'Humidity': [80, 40, 78, 35, 82]\n",
    "}\n",
    "\n",
    "df = pd.DataFrame(data)\n",
    "print(df)\n"
   ]
  },
  {
   "cell_type": "code",
   "execution_count": 5,
   "id": "1be18dd3-7901-4ea8-8872-004f21581ef8",
   "metadata": {},
   "outputs": [
    {
     "name": "stdout",
     "output_type": "stream",
     "text": [
      "City        Los Angeles  New York\n",
      "Date                             \n",
      "2024-01-01         75.0      32.0\n",
      "2024-01-02         77.0      30.5\n"
     ]
    }
   ],
   "source": [
    "# pivot_table()\n",
    "df_pivot_table = df.pivot_table(index='Date', columns='City', values='Temperature', aggfunc='mean')\n",
    "print(df_pivot_table)\n"
   ]
  },
  {
   "cell_type": "code",
   "execution_count": null,
   "id": "7ef0949f-e477-4e4e-874b-56164f1f14ce",
   "metadata": {},
   "outputs": [],
   "source": []
  }
 ],
 "metadata": {
  "kernelspec": {
   "display_name": "Python 3 (ipykernel)",
   "language": "python",
   "name": "python3"
  },
  "language_info": {
   "codemirror_mode": {
    "name": "ipython",
    "version": 3
   },
   "file_extension": ".py",
   "mimetype": "text/x-python",
   "name": "python",
   "nbconvert_exporter": "python",
   "pygments_lexer": "ipython3",
   "version": "3.12.4"
  }
 },
 "nbformat": 4,
 "nbformat_minor": 5
}
